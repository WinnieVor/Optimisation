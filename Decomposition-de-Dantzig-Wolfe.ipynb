{
 "cells": [
  {
   "cell_type": "markdown",
   "metadata": {},
   "source": [
    "INSA ROUEN <br>\n",
    "MS ESD INSA ROUEN <br>\n",
    "Winnie VORIHILALA <br>"
   ]
  },
  {
   "cell_type": "markdown",
   "metadata": {},
   "source": [
    " # <center> OPTIMISATION AVANCEE </center>"
   ]
  },
  {
   "cell_type": "markdown",
   "metadata": {},
   "source": [
    "# Décomposition de Dantzig-Wolfe"
   ]
  },
  {
   "cell_type": "markdown",
   "metadata": {},
   "source": [
    "On considère le problème $(P)$ suivant : "
   ]
  },
  {
   "cell_type": "markdown",
   "metadata": {},
   "source": [
    "$$\n",
    "(P):\n",
    "\\left \\{\n",
    "\\begin{array}{r c l}\n",
    "Min \\: Z = -2x_1-4x_2-3x_3−5x_4−x_5−4x_6 \\cr\n",
    "       2x_1+6x_2+6x_3+15x_4+2x_5+3x_6≤14 \\cr\n",
    "       x_1 + x_2 =1 \\cr\n",
    "       x_3 + x_4 = 1 \\cr\n",
    "       x_5 + x_6=1 \\cr\n",
    "       x_j≥0 \\: ∀ j∈\\{1,...,6\\} \\cr\n",
    "\\end{array}\n",
    "\\right .\n",
    "$$"
   ]
  },
  {
   "cell_type": "markdown",
   "metadata": {},
   "source": [
    "On note : "
   ]
  },
  {
   "cell_type": "markdown",
   "metadata": {},
   "source": [
    "$X_1 = \\{(x_1,x_2) / x_1+x_2 = 1, x_1 ≥ 0, x_2 ≥0\\}$ "
   ]
  },
  {
   "cell_type": "markdown",
   "metadata": {},
   "source": [
    "$X_2 = \\{(x_3,x_4) / x_3+x_4 = 1, x_3 ≥0, x_4 ≥0\\}$ "
   ]
  },
  {
   "cell_type": "markdown",
   "metadata": {},
   "source": [
    "$X_3 = \\{(x_5,x_6) / x_5+x_6 = 1, x_5 ≥0, x_6 ≥0\\}$ "
   ]
  },
  {
   "cell_type": "markdown",
   "metadata": {},
   "source": [
    "On peut écrire le problème linéaire $(P)$ sous la forme :"
   ]
  },
  {
   "cell_type": "markdown",
   "metadata": {},
   "source": [
    "$$\n",
    "(P):\n",
    "\\left \\{\n",
    "\\begin{array}{r c l}\n",
    "Min \\: Z = -2x_1-4x_2-3x_3−5x_4−x_5−4x_6 \\cr\n",
    "       a^T≤14 \\cr\n",
    "       \\begin{pmatrix} x_1 \\\\ x_2  \\end{pmatrix} \\in X_1, \\;\n",
    "       \\begin{pmatrix} x_3 \\\\ x_4  \\end{pmatrix} \\in X_2, \\;\n",
    "       \\begin{pmatrix} x_5 \\\\ x_6  \\end{pmatrix} \\in X_3 \\;\n",
    "\\end{array}\n",
    "\\right .\n",
    "$$"
   ]
  },
  {
   "cell_type": "markdown",
   "metadata": {},
   "source": [
    "## Question a : Points extrêmes"
   ]
  },
  {
   "cell_type": "markdown",
   "metadata": {},
   "source": [
    "Explicitons tous les points extrêmes de $X_1$, $X_2$ et $X_3$, puis donnons la liste complète de tous les\n",
    "points extrêmes de $X = X_1 * X_2 * X_3$. Ces points extrêmes seront notés $y^1, y^2, ... y^K$."
   ]
  },
  {
   "cell_type": "markdown",
   "metadata": {},
   "source": [
    "Considérons X1 : $X_1 = \\{(x_1,x_2) / x_1+x_2 = 1, x_1 ≥0, x_2 ≥0\\}$ <br>\n",
    "$X_1$ évolue dans un sous-espace vectoriel de dimension 2. Sa représentation graphique montre que $X_1$ admet 2 points extrêmes $x_1^* (0,1) \\: et \\: x_2^* (1,0)$. Nous pouvons ainsi déduire tous les points extrêmes ci-dessous."
   ]
  },
  {
   "cell_type": "markdown",
   "metadata": {},
   "source": [
    "- Pour $X_1$, les points extrêmes sont : \n",
    "\\begin{array}{l}\n",
    "x_1^* = \\begin{pmatrix} 0 \\\\ 1 \\\\ 0 \\\\ 0 \\\\ 0 \\\\ 0 \\end{pmatrix} \\; et \\; \n",
    "x_2^* = \\begin{pmatrix} 1 \\\\ 0 \\\\ 0 \\\\ 0 \\\\ 0 \\\\ 0 \\end{pmatrix}\n",
    "\\end{array}"
   ]
  },
  {
   "cell_type": "markdown",
   "metadata": {},
   "source": [
    "- Pour $X_2$, les points extrêmes sont : \n",
    "\\begin{array}{l}\n",
    "x_3^* = \\begin{pmatrix} 0 \\\\ 0 \\\\ 0 \\\\ 1 \\\\ 0 \\\\ 0 \\end{pmatrix} \\; et \\;\n",
    "x_4^* = \\begin{pmatrix} 0 \\\\ 0 \\\\ 1 \\\\ 0 \\\\ 0 \\\\ 0 \\end{pmatrix}\n",
    "\\end{array}"
   ]
  },
  {
   "cell_type": "markdown",
   "metadata": {},
   "source": [
    "- Pour $X_3$, les points extrêmes sont : \n",
    "\\begin{array}{l}\n",
    "x_5^* = \\begin{pmatrix} 0 \\\\ 0 \\\\ 0 \\\\ 0 \\\\ 0 \\\\ 1 \\end{pmatrix} \\; et \\;\n",
    "x_6^* = \\begin{pmatrix} 0 \\\\ 0 \\\\ 0 \\\\ 0 \\\\ 1 \\\\ 0 \\end{pmatrix}\n",
    "\\end{array}"
   ]
  },
  {
   "cell_type": "markdown",
   "metadata": {},
   "source": [
    "Les valeurs de $y_i$ sont obtenues par concaténation des matrices $X_1$, $X_2$ et $X_3$. Pour cela, nous allons calculer toutes les combinaisons linéaires possibles de $X = X_1 * X_2 * X_3 \\: avec \\begin{pmatrix} x_1^* \\\\ x_2^*  \\end{pmatrix} \\in X_1, \\;\n",
    "       \\begin{pmatrix} x_3^* \\\\ x_4^*  \\end{pmatrix} \\in X_2, \\;\n",
    "       \\begin{pmatrix} x_5^* \\\\ x_6^*  \\end{pmatrix} \\in X_3 \\;.$<br>\n",
    "<br>\n",
    "\\begin{array}{c l}\n",
    "y_1 = x_1^* + x_3^* + x_5^*\n",
    "⇔y_1 = \\begin{pmatrix} 0 \\\\ 1 \\\\ 0 \\\\ 0 \\\\ 0 \\\\ 0 \\end{pmatrix} \\; + \\begin{pmatrix} 0 \\\\ 0 \\\\ 0 \\\\ 1 \\\\ 0 \\\\ 0 \\end{pmatrix} \\; + \\begin{pmatrix} 0 \\\\ 0 \\\\ 0 \\\\ 0 \\\\ 0 \\\\ 1 \\end{pmatrix} = \\begin{pmatrix} 0 \\\\ 1 \\\\ 0 \\\\ 1 \\\\ 0 \\\\ 1 \\end{pmatrix} \\cr\n",
    "y_2 = x_1^* + x_3^* + x_6^*\n",
    "⇔y_2 = \\begin{pmatrix} 0 \\\\ 1 \\\\ 0 \\\\ 0 \\\\ 0 \\\\ 0 \\end{pmatrix} \\; + \\begin{pmatrix} 0 \\\\ 0 \\\\ 0 \\\\ 1 \\\\ 0 \\\\ 0 \\end{pmatrix} + \\begin{pmatrix} 0 \\\\ 0 \\\\ 0 \\\\ 0 \\\\ 1 \\\\ 0 \\end{pmatrix} = \\begin{pmatrix} 0 \\\\ 1 \\\\ 0 \\\\ 1 \\\\ 1 \\\\ 0 \\end{pmatrix} \\cr\n",
    "y_3 = x_1^* + x_4^* + x_5^*\n",
    "⇔y_3 = \\begin{pmatrix} 0 \\\\ 1 \\\\ 0 \\\\ 0 \\\\ 0 \\\\ 0 \\end{pmatrix} \\; + \\begin{pmatrix} 0 \\\\ 0 \\\\ 1 \\\\ 0 \\\\ 0 \\\\ 0 \\end{pmatrix} \\; + \\begin{pmatrix} 0 \\\\ 0 \\\\ 0 \\\\ 0 \\\\ 0 \\\\ 1 \\end{pmatrix} = \\begin{pmatrix} 0 \\\\ 1 \\\\ 1 \\\\ 0 \\\\ 0 \\\\ 1 \\end{pmatrix} \\cr\n",
    "y_4 = x_1^* + x_4^* + x_6^*\n",
    "⇔y_4 = \\begin{pmatrix} 0 \\\\ 1 \\\\ 0 \\\\ 0 \\\\ 0 \\\\ 0 \\end{pmatrix} \\; + \\begin{pmatrix} 0 \\\\ 0 \\\\ 1 \\\\ 0 \\\\ 0 \\\\ 0 \\end{pmatrix} \\; + \\begin{pmatrix} 0 \\\\ 0 \\\\ 0 \\\\ 0 \\\\ 1 \\\\ 0 \\end{pmatrix} = \\begin{pmatrix} 0 \\\\ 1 \\\\ 1 \\\\ 0 \\\\ 1 \\\\ 0 \\end{pmatrix} \\cr\n",
    "y_5 = x_2^* + x_3^* + x_5^*\n",
    "⇔y_5 = \\begin{pmatrix} 1 \\\\ 0 \\\\ 0 \\\\ 0 \\\\ 0 \\\\ 0 \\end{pmatrix} \\; + \\begin{pmatrix} 0 \\\\ 0 \\\\ 0 \\\\ 1 \\\\ 0 \\\\ 0 \\end{pmatrix} \\; + \\begin{pmatrix} 0 \\\\ 0 \\\\ 0 \\\\ 0 \\\\ 0 \\\\ 1 \\end{pmatrix} = \\begin{pmatrix} 1 \\\\ 0 \\\\ 0 \\\\ 1 \\\\ 0 \\\\ 1 \\end{pmatrix} \\cr\n",
    "y_6 = x_2^* + x_3^* + x_6^*\n",
    "⇔y_6 = \\begin{pmatrix} 1 \\\\ 0 \\\\ 0 \\\\ 0 \\\\ 0 \\\\ 0 \\end{pmatrix} \\; + \\begin{pmatrix} 0 \\\\ 0 \\\\ 0 \\\\ 1 \\\\ 0 \\\\ 0 \\end{pmatrix} \\; + \\begin{pmatrix} 0 \\\\ 0 \\\\ 0 \\\\ 0 \\\\ 1 \\\\ 0 \\end{pmatrix} = \\begin{pmatrix} 1 \\\\ 0 \\\\ 0 \\\\ 1 \\\\ 1 \\\\ 0 \\end{pmatrix} \\cr\n",
    "y_7 = x_2^* + x_4^* + x_5^*\n",
    "⇔y_7 = \\begin{pmatrix} 1 \\\\ 0 \\\\ 0 \\\\ 0 \\\\ 0 \\\\ 0 \\end{pmatrix} \\; + \\begin{pmatrix} 0 \\\\ 0 \\\\ 1 \\\\ 0 \\\\ 0 \\\\ 0 \\end{pmatrix} \\; + \\begin{pmatrix} 0 \\\\ 0 \\\\ 0 \\\\ 0 \\\\ 0 \\\\ 1 \\end{pmatrix} = \\begin{pmatrix} 1 \\\\ 0 \\\\ 1 \\\\ 0 \\\\ 0 \\\\ 1 \\end{pmatrix} \\cr\n",
    "y_8 = x_2^* + x_4^* + x_6^*\n",
    "⇔y_8 = \\begin{pmatrix} 1 \\\\ 0 \\\\ 0 \\\\ 0 \\\\ 0 \\\\ 0 \\end{pmatrix} \\; + \\begin{pmatrix} 0 \\\\ 0 \\\\ 1 \\\\ 0 \\\\ 0 \\\\ 0 \\end{pmatrix} \\; + \\begin{pmatrix} 0 \\\\ 0 \\\\ 0 \\\\ 0 \\\\ 1 \\\\ 0 \\end{pmatrix} = \\begin{pmatrix} 1 \\\\ 0 \\\\ 1 \\\\ 0 \\\\ 1 \\\\ 0 \\end{pmatrix} \\cr\n",
    "\\end{array}"
   ]
  },
  {
   "cell_type": "markdown",
   "metadata": {},
   "source": [
    "Ainsi, pour $X$, les sommets $y^j avec j \\in \\{1,..,8\\}$ sont : \n",
    "\\begin{array}{l}\n",
    "y^1 \\;\\begin{pmatrix} 0 \\\\ 1 \\\\ 0 \\\\ 1 \\\\ 0 \\\\ 1 \\end{pmatrix} \\; ,\n",
    "y^2 \\;\\begin{pmatrix} 0 \\\\ 1 \\\\ 0 \\\\ 1 \\\\ 1 \\\\ 0 \\end{pmatrix} \\; ,\n",
    "y^3 \\;\\begin{pmatrix} 0 \\\\ 1 \\\\ 1 \\\\ 0 \\\\ 0 \\\\ 1 \\end{pmatrix} \\; ,\n",
    "y^4 \\;\\begin{pmatrix} 0 \\\\ 1 \\\\ 1 \\\\ 0 \\\\ 1 \\\\ 0 \\end{pmatrix} \\; ,\n",
    "y^5 \\;\\begin{pmatrix} 1 \\\\ 0 \\\\ 0 \\\\ 1 \\\\ 0 \\\\ 1 \\end{pmatrix} \\; ,\n",
    "y^6 \\;\\begin{pmatrix} 1 \\\\ 0 \\\\ 0 \\\\ 1 \\\\ 1 \\\\ 0 \\end{pmatrix} \\; ,\n",
    "y^7 \\;\\begin{pmatrix} 1 \\\\ 0 \\\\ 1 \\\\ 0 \\\\ 0 \\\\ 1 \\end{pmatrix} \\; ,\n",
    "y^8 \\;\\begin{pmatrix} 1 \\\\ 0 \\\\ 1 \\\\ 0 \\\\ 1 \\\\ 0 \\end{pmatrix} \\; \n",
    "\\end{array}"
   ]
  },
  {
   "cell_type": "markdown",
   "metadata": {},
   "source": [
    "## Question b : Ecriture du programme maître "
   ]
  },
  {
   "cell_type": "markdown",
   "metadata": {},
   "source": [
    "Pour tout points extrêmes $y^i$ de $X$, on note : <br>\n",
    "$$ θ^i = c^T*y^i $$ <br>\n",
    "où \n",
    "- $c^T$ : représente les coefficients de la fonction de coût $Z$. <br>\n",
    "- $i \\in \\{1..8\\}$ <br>\n",
    "\n",
    "On note : <br>\n",
    "$$ \\gamma^i = a^T*y^i –14 $$ <br>\n",
    "\n",
    "où\n",
    "- $a^T$ : représente les coefficients de la contrainte couplante. <br>\n",
    "- $i \\in \\{1..8\\}$ <br>\n",
    "<br>\n",
    "\n",
    "Calculons toutes les valeurs de $θ^i$ et $\\gamma^i \\: pour \\: i = \\{1,...,K\\}$, puis écrivons intégralement le programme maître de la méthode de Dantzig- Wolf appliqué à $(P)$."
   ]
  },
  {
   "cell_type": "markdown",
   "metadata": {},
   "source": [
    "\\begin{array}{l}\n",
    "θ^1 = c^T*y^1 ⇔ \\begin{pmatrix} -2 \\\\ -4 \\\\ -3 \\\\ -5 \\\\ -1 \\\\ -4 \\end{pmatrix} * \\begin{pmatrix} 0 \\\\ 1 \\\\ 0 \\\\ 1 \\\\ 0 \\\\ 1 \\end{pmatrix} = -13 \\cr\n",
    "\\gamma^1 = a^T*y^1 ⇔  \\begin{pmatrix} 2 \\\\ 6 \\\\ 6 \\\\ 15 \\\\ 2 \\\\ 3 \\end{pmatrix} * \\begin{pmatrix} 0 \\\\ 1 \\\\ 0 \\\\ 1 \\\\ 0 \\\\ 1 \\end{pmatrix} - 14 = 10\n",
    "\\end{array}"
   ]
  },
  {
   "cell_type": "markdown",
   "metadata": {},
   "source": [
    "Nous obtenons le tableau ci-dessous avec toutes les valeurs de $\\theta^i$ et $\\gamma^i$ pour $i \\in \\{1,..,8\\}$: "
   ]
  },
  {
   "cell_type": "markdown",
   "metadata": {},
   "source": [
    "| Variables  |  $y^1$      |   $y^2$    |   $y^3$    | $y^4$     |  $y^5$     |  $y^6$    |  $y^7$    | $y^8$   |\n",
    "| ------- :  |  ----------:| ---------: | ---------: | ---------:| ---------: | ---------:| ---------:|  -----: |\n",
    "|$\\theta^i$  |    -13      |      -10   |      -11   |     -8    |      -11   |     -8    |     -9    |   -6    |\n",
    "|$\\gamma^i$ |     10      |        9   |        1   |      0    |        6   |      5    |     -3    |   -4    |\n"
   ]
  },
  {
   "cell_type": "markdown",
   "metadata": {},
   "source": [
    "<strong> Rappel de cours : </strong> <br>\n",
    "Soit un programme linéaire $(P)$ qui a la forme suivante : \n",
    "$$\n",
    "(P):\n",
    "\\left \\{\n",
    "\\begin{array}{r c l}\n",
    "min \\: Z = \\sum_{k=1}^K (C^k)^T * x^k\\cr\n",
    "       \\sum_{k=1}^K (A_k) * x^k = b\\cr\n",
    "       D_k*x^k = d^k \\:∀ k∈\\{1,...,K\\} \\cr\n",
    "       x_k≥0 \n",
    "\\end{array}\n",
    "\\right .\n",
    "$$\n",
    "<br>\n",
    "On observe une structure bloc-diagonale et des contraintes couplantes. Sans les contraintes couplantes, on pourrait décomposer ce programme linéaire en plusieurs sous-problèmes $SP_k$ correspondant aux différents blocs de variables. Ces sous-problèmes $(SP)$ s'écriraient comme suit : <br>\n",
    "$$\n",
    "(SP_k):\n",
    "\\left \\{\n",
    "\\begin{array}{r c l}\n",
    "min \\: Z = \\sum_{k=1}^K (C^k)^T * x^k\\cr\n",
    "       D_k*x^k = d^k \\:∀ k∈\\{1,...,K\\} \\cr\n",
    "       x_k≥0 \n",
    "\\end{array}\n",
    "\\right .\n",
    "$$\n",
    "<br>\n",
    "Si $(P)$ admet une solution, ce sera la concaténation de vecteurs solutions des sous-problèmes dans leurs sous-espaces respectifs (correspondant aux blocs de variables), et ces sous-problèmes ont donc chacun au moins une solution. Le polyèdre correspondant aux contraintes de chacun de ces problèmes est donc non vide, et on les note : <br>\n",
    "$$X_k = \\{x/D_k*x^k = dk; x≥0\\} ≠ 0$$\n",
    "Pour simplifier la présentation, on suppose ces polyèdres bornés : ce sont des polytopes.<br>\n",
    "$$X = \\prod_{k=1}^{K} X^k \\; $$ où X : produit cartésien des $X_k$ <br>\n",
    "$$x \\in X ⇔ x = (x^1,x^2,...,x^K) \\: \\: avec \\: \\: ∀ \\:k*x^k ∈ X^k$$\n",
    "$X_k$ (polytope) a $q_k$ sommets. X a q sommets avec : $Q = \\prod_{k=1}^{K} q_k$ et $\\{y_1,...,y_q\\}$ sommets de $X$.<br>\n",
    "$$x∈X⇔x=􏰇 \\sum_{j=1}^q u_j*y^j \\: avec \\: u_j ≥ 0 \\: ∀ \\: j \\: et \\: \\sum_{j=1}^q 􏰇u_j = 1.$$\n",
    "Ainsi, en remplaçant le x de notre programme linéaire par son expression ci-dessus, nous obtenons : <br>\n",
    "$$\n",
    "\\left \\{\n",
    "\\begin{array}{r}\n",
    "min \\: C^T * x\\cr\n",
    "       A*x - b = 0 \\cr\n",
    "       x \\in X\n",
    "\\end{array}\n",
    "\\right .\n",
    "=> \\left \\{\n",
    "\\begin{array}{r}\n",
    "min \\: C^T * \\sum_{j=1}^K u_j * y^j\\cr\n",
    "       A* \\sum_{j=1}^K u_j *y^j -b =0\\cr\n",
    "       \\sum_{j=1}^K u_j = 1\\cr\n",
    "        u_j ≥ 0\\: ∀ j  \n",
    "\\end{array}\n",
    "\\right .\n",
    "=> \\left \\{\n",
    "\\begin{array}{r}\n",
    "min \\: \\sum_{j=1}^K (C^T * y^j) * u_j\\cr\n",
    "       \\sum_{j=1}^K (A * y^j) * u_j - b =0\\cr\n",
    "       \\sum_{j=1}^K u_j = 1\\cr\n",
    "        u_j ≥ 0 \\:∀ j  \n",
    "\\end{array}\n",
    "\\right .\n",
    "=> \\left \\{\n",
    "\\begin{array}{r}\n",
    "min \\: \\sum_{j=1}^K \\theta^j * u_j\\cr\n",
    "       \\sum_{j=1}^K \\gamma^j * u_j - b =0\\cr\n",
    "       \\sum_{j=1}^K u_j = 1\\cr\n",
    "        u_j ≥ 0 \\:∀ j  \n",
    "\\end{array}\n",
    "\\right .\n",
    "$$\n",
    "Posons $ θ^j = c^T*y^j $ et $ \\gamma^j = A*y^j - b $. <br>\n",
    "Le programme maître $(PM)$ du programme linéaire initial(P) s'écrit donc sous la forme suivante : <br>\n",
    "$$\n",
    "(PM):\n",
    "\\left \\{\n",
    "\\begin{array}{r}\n",
    "min \\: \\sum_{j \\in J} \\theta^j * u_j\\cr\n",
    "       \\sum_{j=1}^K \\gamma^j * u_j =0\\; \\; (1) \\cr\n",
    "       \\sum_{j=1}^K u_j = 1\\; \\; (2) \\cr\n",
    "        u_j ≥ 0 \\:∀ j \\in J  \n",
    "\\end{array}\n",
    "\\right .\n",
    "$$\n",
    "où : <br>\n",
    "(1) : est un vecteur de même dimension que $\\gamma^j$ <br>\n",
    "(2) : est un scalaire <br>\n",
    "Le programme maître restreint $(PM_t)$ à l'itération t s'écrit de la manière suivante : <br>\n",
    "$$\n",
    "(PM_t)\n",
    "\\left \\{\n",
    "\\begin{array}{r}\n",
    "min \\: \\sum_{j \\in J} \\theta^j * u_j\\cr\n",
    "       \\sum_{j=1}^K \\gamma^j * u_j =0\\; \\; (1) \\cr\n",
    "       \\sum_{j=1}^K u_j = 1\\; \\; (2) \\cr\n",
    "        u_j ≥ 0 \\:∀ j \\in J_t  \n",
    "\\end{array}\n",
    "\\right .\n",
    "$$\n"
   ]
  },
  {
   "cell_type": "markdown",
   "metadata": {},
   "source": [
    "Mettons en application le rappel de cours ci-dessus. On note : <br>\n",
    "$$  x = \\sum_{j=1}^{8} u^j*y^j $$"
   ]
  },
  {
   "cell_type": "markdown",
   "metadata": {},
   "source": [
    "En procédant à un changement de variable dans $P$, on obtient le programme maître $(PM)$ qui s'écrit : "
   ]
  },
  {
   "cell_type": "markdown",
   "metadata": {},
   "source": [
    "$$\n",
    "(PM):\n",
    "\\left \\{\n",
    "\\begin{array}{r c l}\n",
    "Min \\: Z = -13u_1-10u_2-11u_3 − 8u_4 − 11u_5 − 8u_6 - 9u_7 - 6u_8 \\cr\n",
    "       10u_1 + 9u_2 + u_3 + 6u_5 + 5u_6 - 3u_7 - 4u_8≤0 \\cr\n",
    "       \\sum_{i=1}^{8} u^i = 1 \\cr\n",
    "       u_i≥0 \\: ∀ i∈\\{1,...,8\\} \\cr\n",
    "\\end{array}\n",
    "\\right .\n",
    "$$"
   ]
  },
  {
   "cell_type": "markdown",
   "metadata": {},
   "source": [
    "## Question c : Ecriture du programme maître restreint "
   ]
  },
  {
   "cell_type": "markdown",
   "metadata": {},
   "source": [
    "Déterminons le point extrême de $X$ minimisant la valeur du membre de gauche de la contrainte couplante. Ecrivons ensuite le programme maître restreint limité à ce seul point extrême. Déterminons la solution optimale de ce programme maître restreint $PM_t$ ainsi que les variables duales optimales correspondantes $π = (π1, π2)^T$."
   ]
  },
  {
   "cell_type": "markdown",
   "metadata": {},
   "source": [
    "Déterminer le point extrême de $X$ qui minimise la valeur du membre de gauche de la contrainte couplante revient à résoudre : <br>\n",
    "$$ Min \\;a^T*y^i \\:pour \\:i \\in \\{1,..,8\\} ⇔ Min \\;a^T*y^i –14 \\:pour \\: i \\in \\{1,..,8\\} ⇔ Min \\; \\gamma^i \\:pour \\:i \\in \\{1,..,8\\} $$  <br>\n",
    "Autrement dit, il faut trouver le plus petit $y^i$ qui minimise $\\gamma^i$ pour $i \\in \\{1,..,8\\}$. Si on se réfère à notre tableau ci-dessus (question b), on constate que la plus petite valeur de $\\gamma^i$ est -4, et correspond à $y^8$. Par conséquent, le point extrême de $X$ qui minimise la valeur du membre de gauche de la contrainte couplante est $y^8$. <br>\n",
    "Le programme maître restreint $(PM_t)$ s'écrit donc comme suit :"
   ]
  },
  {
   "cell_type": "markdown",
   "metadata": {},
   "source": [
    "$$\n",
    "(PM_t) :\n",
    "\\left \\{\n",
    "\\begin{array}{r c l}\n",
    "Min \\: Z = - 6u_8 \\cr\n",
    "       - 4u_8≤0 \\cr\n",
    "       u^8 = 1 \\cr\n",
    "       u_8 ≥ 0\\cr\n",
    "\\end{array}\n",
    "\\right .\n",
    "$$"
   ]
  },
  {
   "cell_type": "markdown",
   "metadata": {},
   "source": [
    "Une solution optimale de $(PM_t)$ est une solution qui minimise Z ou qui donne la plus petite valeur de Z. Nous pouvons déduire rapidement que la solution optimale pour $(PM_t)$ est $u_8 = 1$ pour une valeur de $Z = -6$. <br>\n",
    "<br>\n",
    "<strong> Rappel de cours : </strong> <br>\n",
    "\n",
    "- Dualité : En théorie de l'optimisation, la dualité ou principe de dualité désigne le principe selon lequel les problèmes d'optimisation peuvent être vus de deux perspectives, le problème primal ou le problème dual, et la solution du problème dual donne une borne inférieure à la solution du problème (de minimisation) primal. Cependant, en général les valeurs optimales des problèmes primales et duales ne sont pas forcément égales : cette différence est appelée saut de dualité. Pour les problèmes en optimisation convexe, ce saut est nul sous contraintes. <br>\n",
    "- Théorème de dualité forte : Si le primal admet une solution optimale alors le dual admet une solution optimale ,et les valeurs optimales des 2 problèmes coïncident. <br>\n",
    "- Relation de complémentarité : Considérons la paire primale-duale suivante : "
   ]
  },
  {
   "cell_type": "markdown",
   "metadata": {},
   "source": [
    "$$\n",
    "P :\n",
    "\\left \\{\n",
    "\\begin{array}{r c l}\n",
    "max \\: c^T*x \\cr\n",
    "       s.c \\:Ax = b \\cr\n",
    "       x ≥ 0\\cr\n",
    "\\end{array}\n",
    "\\right .\n",
    ", \\; \\; \\;\n",
    "D :\n",
    "\\left \\{\n",
    "\\begin{array}{r c l}\n",
    "min \\: b^T*y \\cr\n",
    "       s.c \\:A^T*y = c \\cr\n",
    "\\end{array}\n",
    "\\right .\n",
    "$$"
   ]
  },
  {
   "cell_type": "markdown",
   "metadata": {},
   "source": [
    "Si $x$ est une solution optimale du primal $P$ et $y$ une solution optimale du dual $D$, alors $x_i(a_T^i*y − c_i)=0,$ où $a_i$ est la i-ème colonne de $A$. En d'autres termes, <br>\n",
    "$$ x_i > 0 => a_i^T*y = c_i$$\n",
    "$$ a_i^T*y > c_i => x_i = 0$$"
   ]
  },
  {
   "cell_type": "markdown",
   "metadata": {},
   "source": [
    "Revenons à notre exercice. Nous cherchons à trouver les valeurs duales optimales $π=(π1,π2)^𝑇$ correspondantes à $(PM_t)$.\n",
    "En appliquant la relation de complémentarité, nous constatons que : <br>\n",
    "$$-4*u_8 ≤0 ⇔ 4*u_8 ≥0$$ <br>\n",
    ", or $$u_8 = 1 => 4*u_8 > 0 $$<br>\n",
    "Par conséquent, on peut déduire que $π1$ = 0. <br>\n",
    "En appliquant le théorème de dualité forte, nous obtenons la fonction économique du problème dual : <br>\n",
    "\n",
    "$$0*π1 + 1*π2 = -6$$ <br>\n",
    "Par conséquent, en remplaçant $π1$ par sa valeur, on en déduit que $π2 = -6$. <br>                            "
   ]
  },
  {
   "cell_type": "markdown",
   "metadata": {},
   "source": [
    "## Question d : Résolution des sous-programmes linéaires\n"
   ]
  },
  {
   "cell_type": "markdown",
   "metadata": {},
   "source": [
    "Dans cette partie nous allons vérifions que la détermination du point extrême $y^i$ minimisant le coût réduit\n",
    "$\\theta_i – (π1, π2)*( γ^i, 1)^T$ peut se ramener à la résolution de 3 petits programmes linéaires à 2 variables, indépendamment les uns des autres. Puis nous allons préciser le point extrême obtenu et dire comment ce nouveau point extrême permet d’ajouter une colonne de coût réduit négatif au programme maître restreint. Enfin, nous allons déterminer les solutions primales et duales optimales de ce programme maître restreint « augmenté ». Nous vérifieront à chaque fois la décroissance de l’objectif du programme maître restreint. <br>"
   ]
  },
  {
   "cell_type": "markdown",
   "metadata": {},
   "source": [
    "## Itération 1"
   ]
  },
  {
   "cell_type": "markdown",
   "metadata": {},
   "source": [
    "$\n",
    "\\begin{array}{l}\n",
    "Min_{i \\in \\{1,...,8\\} }\\: \\theta^i - (π1, π2) * (\\gamma^i,1)^T \\cr\n",
    "⇔(Min_{i \\in \\{1,...,8\\} }\\: c^T*y^j - π1(a^T*y^i - 14)) - π2 \\cr\n",
    "⇔(Min_{i \\in \\{1,...,8\\} }\\: (c^T - π1*a^T)*y^i) + π1 * 14 - π2 \\cr\n",
    "⇔(Min_{x \\in X }\\: (c^T - π1*a^T)*x) + π1 * 14 - π2 \\cr\n",
    "⇔(Min_{x \\in X^1 }\\: (c_1^T - π1*a_1^T)*x) + (Min_{x \\in X^2 }\\: (c_2^T - π1*a_2^T)*x) + (Min_{x \\in X^3 }\\: (c_3^T - π1*a_3^T)*x) + π1 * 14 - π2 \\cr\n",
    "\\cr\n",
    "Or \\:π1 = 0 \\;et\\; π2 = -6 \\cr\n",
    "\\cr\n",
    "⇔(Min_{x \\in X^1 }\\: c_1^T *x) + (Min_{x \\in X^2 }\\: c_2^T *x) + (Min_{x \\in X^3 }\\: c_3^T *x) + 6 \\cr\n",
    "⇔(Min_{x \\in X^1 }\\: SP_1) + (Min_{x \\in X^2 }\\: SP_2) + (Min_{x \\in X^3 }\\: SP_3) + 6 \\cr\n",
    "\\end{array}\n",
    "$"
   ]
  },
  {
   "cell_type": "markdown",
   "metadata": {},
   "source": [
    "On note : \n",
    "- $SP_1$ le 1er sous programme linéaire <br>\n",
    "- $SP_2$ le 2ème sous programme et <br>\n",
    "- $SP_3$ le 3ème sous-programme. <br>\n",
    "\n",
    "On constate que le programme maître restreint $(PM_t)$ peut bien se ramener à la résolution de 3 petits programmes linéaires à 2 variables, indépendants les uns des autres.  "
   ]
  },
  {
   "cell_type": "markdown",
   "metadata": {},
   "source": [
    "Le 1er sous-programme $(SP_1)$ est : "
   ]
  },
  {
   "cell_type": "markdown",
   "metadata": {},
   "source": [
    "$$\n",
    "(SP_1) :\n",
    "\\left \\{\n",
    "\\begin{array}{r c l}\n",
    "Min \\: Z = -2x_1-4x_2 \\cr\n",
    "       x_1 + x_2 =1 \\cr\n",
    "       x_1≥0 \\cr \n",
    "       x_2≥0 \\cr\n",
    "\\end{array}\n",
    "\\right .\n",
    "$$"
   ]
  },
  {
   "cell_type": "markdown",
   "metadata": {},
   "source": [
    "$(SP_1)$ admet les solutions optimales $x_1^* = 0 \\: et \\: x_2* = 1$, ainsi $Z = -4.$"
   ]
  },
  {
   "cell_type": "markdown",
   "metadata": {},
   "source": [
    "Le 2ème sous-programme (SP2) est : "
   ]
  },
  {
   "cell_type": "markdown",
   "metadata": {},
   "source": [
    "$$\n",
    "(SP_2)\n",
    "\\left \\{\n",
    "\\begin{array}{r c l}\n",
    "Min \\: Z = -3x_3−5x_4 \\cr\n",
    "       x_3 + x_4 = 1 \\cr\n",
    "       x_3≥0 \\cr \n",
    "       x_4≥0 \\cr\n",
    "\\end{array}\n",
    "\\right .\n",
    "$$"
   ]
  },
  {
   "cell_type": "markdown",
   "metadata": {},
   "source": [
    "$(SP2)$ admet les solutions optimales $x_3^* = 0 \\: et \\: x_4* = 1$, ainsi $Z = -5.$"
   ]
  },
  {
   "cell_type": "markdown",
   "metadata": {},
   "source": [
    "Le 3ème sous-programme (SP3) est : "
   ]
  },
  {
   "cell_type": "markdown",
   "metadata": {},
   "source": [
    "$$\n",
    "(SP_3)\n",
    "\\left \\{\n",
    "\\begin{array}{r c l}\n",
    "Min \\: Z = −x_5−4x_6 \\cr\n",
    "       x_5 + x_6=1 \\cr\n",
    "       x_5≥0 \\cr \n",
    "       x_6≥0 \\cr\n",
    "\\end{array}\n",
    "\\right .\n",
    "$$"
   ]
  },
  {
   "cell_type": "markdown",
   "metadata": {},
   "source": [
    "$(SP3)$ admet les solutions optimales $x_5^* = 0 \\: et \\: x_6* = 1$, ainsi $Z = -4.$"
   ]
  },
  {
   "cell_type": "markdown",
   "metadata": {},
   "source": [
    "$ (Min_{x \\in X^1 }\\: SP_1) + (Min_{x \\in X^2 }\\: SP_2) + (Min_{x \\in X^3 }\\: SP_3) + 6\n",
    "⇔ (-4 -5 -4 +6) \n",
    "⇔ -7$"
   ]
  },
  {
   "cell_type": "markdown",
   "metadata": {},
   "source": [
    "$-7≤0$ => On continue l'itération."
   ]
  },
  {
   "cell_type": "markdown",
   "metadata": {},
   "source": [
    "Nous obtenons les solutions optimales $x^*$ suivantes : <br>\n",
    "$$x* = (x_1^*,x_2^*,x_3^*,x_4^*,x_5^*,x_6^*) ⇔ x* = (0,1,0,1,0,1)$$ \n",
    "<br>\n",
    "Or cette solution correspond à notre $y^1$, par conséquent, on ajoute la variale $u_1$ à $(PM_t)$. <br>\n",
    "Nous obtenons ainsi le  le programme maître restreint augmenté  $(PM_a)$ suivant : <br>"
   ]
  },
  {
   "cell_type": "markdown",
   "metadata": {},
   "source": [
    "$$\n",
    "(PM_a) :\n",
    "\\left \\{\n",
    "\\begin{array}{r c l}\n",
    "Min \\: Z = -13u_1 - 6u_8 \\cr\n",
    "       10u_1 - 4u_8≤0 \\cr\n",
    "       u_1+u_8 = 1 \\cr\n",
    "       u_1 ≥ 0\\cr\n",
    "       u_8 ≥ 0\\cr\n",
    "\\end{array}\n",
    "\\right .\n",
    "$$"
   ]
  },
  {
   "cell_type": "markdown",
   "metadata": {},
   "source": [
    "En utilisant un solveur en python (pulp, code ci-dessous en annexe), nous obtenons les solutions primales optimales de $(PM_a)$ suivantes : <br>\n",
    "$$u_1 = 2/7 \\: et \\: u_3 = 5/7 $$ <br>\n",
    "$$Z = -13*(2/7) - 6*(5/7) = -8 $$ <br>\n",
    "Calculons maintenant les solutions duales optimales $π1$ et $π2$ de $(PM_a)$. Pour cela, écrivons le problème dual de $(PM_a)$ : <br>"
   ]
  },
  {
   "cell_type": "markdown",
   "metadata": {},
   "source": [
    "$$\n",
    "(DPM_a) :\n",
    "\\left \\{\n",
    "\\begin{array}{r c l}\n",
    "Max \\: Z = 0*π1 + 1*π2 \\cr\n",
    "       10π1 + π2≤-13 \\cr\n",
    "       −4π1 + π2 ≤ −6 \\cr\n",
    "       π1 ≤ 0\\cr\n",
    "       π2 \\in R\\cr\n",
    "\\end{array}\n",
    "\\right .\n",
    "$$"
   ]
  },
  {
   "cell_type": "markdown",
   "metadata": {},
   "source": [
    "En utilisant le solveur pulp (code ci-dessous en annexe), nous obtenons les solutions duales optimales de $(PM_a)$ suivantes : <br>\n",
    "$$π1 = -1/2 \\: et \\: π2 = -8 $$ <br>\n",
    "$$Z = 0*(-1/2) + 1*(-8) = -8 $$ <br>\n",
    "$-8≤0$ => On continue l'itération, et on remarque bien une décroissance de la valeur de la fonction objectif entre le $PM_t$ et le $PM_a$ qui est passée de $-6$ à $-8$. <br>"
   ]
  },
  {
   "cell_type": "markdown",
   "metadata": {},
   "source": [
    "## Question e : Résolution des sous-programmes linéaires\n"
   ]
  },
  {
   "cell_type": "markdown",
   "metadata": {},
   "source": [
    "Dans cette partie, nous allons poursuivre l’application de la méthode de décomposition de Dantzig-Wolfe jusqu’à satisfaction du test d’optimalité (c’est à dire jusqu’à ce qu’on ne puisse plus générer de nouvelle colonne de coût réduit négatif). Puis nous comparerons le nombre de colonnes générées au nombre de colonnes du programme maître complet (question b)."
   ]
  },
  {
   "cell_type": "markdown",
   "metadata": {},
   "source": [
    "## Itération 2"
   ]
  },
  {
   "cell_type": "markdown",
   "metadata": {},
   "source": [
    "Déterminons le point extrême $y^i$ qui minimise le coût réduit pour $π1 =-1/2 $ et $π2 = -8$. <br>\n",
    "<br>\n",
    "$\n",
    "\\begin{array}{l}\n",
    "Min_{x \\in X^1 }\\: (c_1^T - π1*a_1^T)*x) + (Min_{x \\in X^2 }\\: (c_2^T - π1*a_2^T)*x) + (Min_{x \\in X^3 }\\: (c_3^T - π1*a_3^T)*x) + π1 * 14 - π2 \\cr\n",
    "⇔Min_{x \\in X^1 }\\: (c_1^T + 1/2*a_1^T)*x) + (Min_{x \\in X^2 }\\: (c_2^T + 1/2*a_2^T)*x) + (Min_{x \\in X^3 }\\: (c_3^T +1/2*a_3^T)*x) - 1/2 * 14 + 8 \\cr\n",
    "Min_{x \\in X^1 }\\: (c_1^T + 1/2*a_1^T)*x) + (Min_{x \\in X^2 }\\: (c_2^T + 1/2*a_2^T)*x) + (Min_{x \\in X^3 }\\: (c_3^T +1/2*a_3^T)*x) + 1 \\cr\n",
    "⇔(Min_{x \\in X^1 }\\: SP_4) + (Min_{x \\in X^2 }\\: SP_5) + (Min_{x \\in X^3 }\\: SP_6) + 1 \\cr\n",
    "\\end{array}\n",
    "$\n",
    "<br>\n",
    "<br>\n",
    "Nous obtenons les 3 sous-programmes suivants : <br>\n",
    "<br>\n",
    "$$\n",
    "(SP_4) :\n",
    "\\left \\{\n",
    "\\begin{array}{r c l}\n",
    "Min \\: Z = -2x_1-4x_2 + 1/2(2x_1-6x_2) \\cr\n",
    "       x_1 + x_2 =1 \\cr\n",
    "       x_1≥0 \\cr \n",
    "       x_2≥0 \\cr\n",
    "\\end{array}\n",
    "\\right .\n",
    "=>\\left \\{\n",
    "\\begin{array}{r c l}\n",
    "Min \\: Z = -x_1-x_2\\cr\n",
    "       x_1 + x_2 =1 \\cr\n",
    "       x_1≥0 \\cr \n",
    "       x_2≥0 \\cr\n",
    "\\end{array}\n",
    "\\right .\n",
    "$$\n",
    "<br>\n",
    "$$\n",
    "(SP_5) :\n",
    "\\left \\{\n",
    "\\begin{array}{r c l}\n",
    "Min \\: Z = -3x_3-5x_4 + 1/2(6x_3+15x_4) \\cr\n",
    "       x_3 + x_4 =1 \\cr\n",
    "       x_3≥0 \\cr \n",
    "       x_4≥0 \\cr\n",
    "\\end{array}\n",
    "\\right .\n",
    "=>\\left \\{\n",
    "\\begin{array}{r c l}\n",
    "Min \\: Z = 0x_3+(5/2)x_4 \\cr\n",
    "       x_3 + x_4 =1 \\cr\n",
    "       x_3≥0 \\cr \n",
    "       x_4≥0 \\cr\n",
    "\\end{array}\n",
    "\\right .\n",
    "$$\n",
    "<br>\n",
    "$$\n",
    "(SP_6) :\n",
    "\\left \\{\n",
    "\\begin{array}{r c l}\n",
    "Min \\: Z = -x_5-4x_6 + 1/2(2x_5+3x_6) \\cr\n",
    "       x_3 + x_4 =1 \\cr\n",
    "       x_3≥0 \\cr \n",
    "       x_4≥0 \\cr\n",
    "\\end{array}\n",
    "\\right .\n",
    "=>\\left \\{\n",
    "\\begin{array}{r c l}\n",
    "Min \\: Z = 0x_5-(5/2)x_6 \\cr\n",
    "       x_5 + x_6 =1 \\cr\n",
    "       x_5≥0 \\cr \n",
    "       x_6≥0 \\cr\n",
    "\\end{array}\n",
    "\\right .\n",
    "$$\n",
    "<br>\n",
    "- $(SP_4)$ admet les solutions optimales $x_1^* = 0 \\: et \\: x_2* = 1$, ou $x_1^* = 1 \\: et \\: x_2* = 0$, ainsi $Z = -1.$\n",
    "- $(SP_5)$ admet les solutions optimales $x_3^* = 1 \\: et \\: x_4* = 0$, ainsi $Z = 0.$\n",
    "- $(SP_6)$ admet les solutions optimales $x_5^* = 0 \\: et \\: x_6* = 1$, ainsi $Z = -2,5.$\n",
    "<br>\n",
    "<br>\n",
    "$ (Min_{x \\in X^1 }\\: SP_4) + (Min_{x \\in X^2 }\\: SP_5) + (Min_{x \\in X^3 }\\: SP_6) + 1\n",
    "⇔ (-1 +0 -2,5 +1) \n",
    "⇔ -2,5 <0$, par conséquent nous continuons l'itération.\n",
    "<br>\n",
    "En choisissant $x_1^* = 0$ et $x_2^* = 1$, nous obtenons les solutions optimales $x^*$ suivantes : <br>\n",
    "$$x* = (x_1^*,x_2^*,x_3^*,x_4^*,x_5^*,x_6^*) ⇔ x* = (0,1,1,0,0,1)$$ \n",
    "<br>\n",
    "Or cette solution correspond à notre $y^3$, par conséquent, on ajoute la variale $u_3$ à $(PM_t)$. <br>\n",
    "Nous obtenons ainsi le programme maître restreint augmenté  $(PM_a1)$ suivant : <br>\n",
    "<br>"
   ]
  },
  {
   "cell_type": "markdown",
   "metadata": {},
   "source": [
    "$$\n",
    "(PM_a1) :\n",
    "\\left \\{\n",
    "\\begin{array}{r c l}\n",
    "Min \\: Z = -13u_1 -11 u_3 - 6u_8 \\cr\n",
    "       10u_1 + u_3 - 4u_8≤0 \\cr\n",
    "       u_1+u_3+u_8 = 1 \\cr\n",
    "       u_1 ≥ 0\\cr\n",
    "       u_3 ≥ 0\\cr\n",
    "       u_8 ≥ 0\\cr\n",
    "\\end{array}\n",
    "\\right .\n",
    "$$"
   ]
  },
  {
   "cell_type": "markdown",
   "metadata": {},
   "source": [
    "<br>\n",
    "En utilisant un solveur en python (pulp, code ci-dessous en annexe), nous obtenons les solutions primales optimales de $(PM_a1)$ suivantes : <br>\n",
    "$$u_1 = 0 \\:, u_3 = 4/5 \\: et \\: u_8 = 1/5 $$ <br>\n",
    "$$Z = -13*(0) - 11*(4/5) - 6*(1/5) = -10 $$ <br>\n",
    "<br>\n",
    "Calculons maintenant les solutions duales optimales $π1$ et $π2$ de $(PM_a1)$. Pour cela, écrivons le problème dual de $(PM_a1)$ : <br>\n",
    "<br>"
   ]
  },
  {
   "cell_type": "markdown",
   "metadata": {},
   "source": [
    "$$\n",
    "(DPM_a1) :\n",
    "\\left \\{\n",
    "\\begin{array}{r c l}\n",
    "Max \\: Z = 0*π1 + 1*π2 \\cr\n",
    "       10π1 + π2≤-13 \\cr\n",
    "       π1 + π2 ≤ −11 \\cr\n",
    "       −4π1 + π2 ≤ −6 \\cr\n",
    "       π1 ≤ 0\\cr\n",
    "       π2 \\in R\\cr\n",
    "\\end{array}\n",
    "\\right .\n",
    "$$"
   ]
  },
  {
   "cell_type": "markdown",
   "metadata": {},
   "source": [
    "En utilisant le solveur pulp (code ci-dessous en annexe), nous obtenons les solutions duales optimales de $(DPM_a1)$ suivantes : <br>\n",
    "$$π1 = -1 \\: et \\: π2 = -10 $$ <br>\n",
    "$$Z = 0*(-1) + 1*(-10) = -10 $$ <br>\n",
    "$-10≤0$ => On continue l'itération, et on remarque bien une décroissance de la valeur de la fonction objectif entre le $(DPM_a)$ et le $(DPM_a1)$ qui est passée de $-8$ à $-10$. <br>"
   ]
  },
  {
   "cell_type": "markdown",
   "metadata": {},
   "source": [
    "## Itération 3"
   ]
  },
  {
   "cell_type": "markdown",
   "metadata": {},
   "source": [
    "Déterminons le point extrême $y^i$ qui minimise le coût réduit pour $π1 =-1 $ et $π2 = -10$. <br>\n",
    "<br>\n",
    "$\n",
    "\\begin{array}{l}\n",
    "Min_{x \\in X^1 }\\: (c_1^T - π1*a_1^T)*x) + (Min_{x \\in X^2 }\\: (c_2^T - π1*a_2^T)*x) + (Min_{x \\in X^3 }\\: (c_3^T - π1*a_3^T)*x) + π1 * 14 - π2 \\cr\n",
    "⇔Min_{x \\in X^1 }\\: (c_1^T + 1*a_1^T)*x) + (Min_{x \\in X^2 }\\: (c_2^T + 1*a_2^T)*x) + (Min_{x \\in X^3 }\\: (c_3^T +1*a_3^T)*x) - 1 * 14 + 10 \\cr\n",
    "Min_{x \\in X^1 }\\: (c_1^T + 1*a_1^T)*x) + (Min_{x \\in X^2 }\\: (c_2^T + 1*a_2^T)*x) + (Min_{x \\in X^3 }\\: (c_3^T +1*a_3^T)*x) - 4 \\cr\n",
    "⇔(Min_{x \\in X^1 }\\: SP_4) + (Min_{x \\in X^2 }\\: SP_5) + (Min_{x \\in X^3 }\\: SP_6) - 4 \\cr\n",
    "\\end{array}\n",
    "$\n",
    "<br>\n",
    "<br>\n",
    "Nous obtenons les 3 sous-programmes suivants : <br>\n",
    "<br>\n",
    "$$\n",
    "(SP_3) :\n",
    "\\left \\{\n",
    "\\begin{array}{r c l}\n",
    "Min \\: Z = -2x_1-4x_2 + 2x_1+6x_2 \\cr\n",
    "       x_1 + x_2 =1 \\cr\n",
    "       x_1≥0 \\cr \n",
    "       x_2≥0 \\cr\n",
    "\\end{array}\n",
    "\\right .\n",
    "=>\\left \\{\n",
    "\\begin{array}{r c l}\n",
    "Min \\: Z = 0x_1+2x_2\\cr\n",
    "       x_1 + x_2 =1 \\cr\n",
    "       x_1≥0 \\cr \n",
    "       x_2≥0 \\cr\n",
    "\\end{array}\n",
    "\\right .\n",
    "$$\n",
    "<br>\n",
    "$$\n",
    "(SP_4) :\n",
    "\\left \\{\n",
    "\\begin{array}{r c l}\n",
    "Min \\: Z = -3x_3-5x_4 + 6x_3+15x_4 \\cr\n",
    "       x_3 + x_4 =1 \\cr\n",
    "       x_3≥0 \\cr \n",
    "       x_4≥0 \\cr\n",
    "\\end{array}\n",
    "\\right .\n",
    "=>\\left \\{\n",
    "\\begin{array}{r c l}\n",
    "Min \\: Z = 3x_3+10x_4 \\cr\n",
    "       x_3 + x_4 =1 \\cr\n",
    "       x_3≥0 \\cr \n",
    "       x_4≥0 \\cr\n",
    "\\end{array}\n",
    "\\right .\n",
    "$$\n",
    "<br>\n",
    "$$\n",
    "(SP_5) :\n",
    "\\left \\{\n",
    "\\begin{array}{r c l}\n",
    "Min \\: Z = -x_5-4x_6 + 2x_5+3x_6 \\cr\n",
    "       x_3 + x_4 =1 \\cr\n",
    "       x_3≥0 \\cr \n",
    "       x_4≥0 \\cr\n",
    "\\end{array}\n",
    "\\right .\n",
    "=>\\left \\{\n",
    "\\begin{array}{r c l}\n",
    "Min \\: Z = x_5-x_6 \\cr\n",
    "       x_5 + x_6 =1 \\cr\n",
    "       x_5≥0 \\cr \n",
    "       x_6≥0 \\cr\n",
    "\\end{array}\n",
    "\\right .\n",
    "$$\n",
    "<br>\n",
    "- $(SP_3)$ admet les solutions optimales $x_1^* = 1 \\: et \\: x_2* = 0$, ainsi $Z = 0.$\n",
    "- $(SP_4)$ admet les solutions optimales $x_3^* = 1 \\: et \\: x_4* = 0$, ainsi $Z = 3.$\n",
    "- $(SP_5)$ admet les solutions optimales $x_5^* = 0 \\: et \\: x_6* = 1$, ainsi $Z = -1.$\n",
    "<br>\n",
    "<br>\n",
    "$ (Min_{x \\in X^1 }\\: SP_3) + (Min_{x \\in X^2 }\\: SP_4) + (Min_{x \\in X^3 }\\: SP_5) + 1\n",
    "⇔ (0 +3 -1 - 4) \n",
    "⇔ -2 <0$, par conséquent nous continuons l'itération.\n",
    "<br>\n",
    "Nous obtenons les solutions optimales $x^*$ suivantes : <br>\n",
    "$$x* = (x_1^*,x_2^*,x_3^*,x_4^*,x_5^*,x_6^*) ⇔ x* = (1,0,1,0,0,1)$$ \n",
    "<br>\n",
    "Or cette solution correspond à notre $y^7$, par conséquent, on ajoute la variale $u_7$ à $(PM_t)$. <br>\n",
    "Nous obtenons ainsi le programme maître restreint augmenté  $(PM_a2)$ suivant : <br>\n",
    "<br>"
   ]
  },
  {
   "cell_type": "markdown",
   "metadata": {},
   "source": [
    "$$\n",
    "(PM_a2) :\n",
    "\\left \\{\n",
    "\\begin{array}{r c l}\n",
    "Min \\: Z = -13u_1 -11 u_3 - 9u_7 - 6u_8 \\cr\n",
    "       10u_1 + u_3 - 3 u_7 - 4u_8≤0 \\cr\n",
    "       u_1+u_3+u_7+u_8 = 1 \\cr\n",
    "       u_1 ≥ 0\\cr\n",
    "       u_3 ≥ 0\\cr\n",
    "       u_7 ≥ 0\\cr\n",
    "       u_8 ≥ 0\\cr\n",
    "\\end{array}\n",
    "\\right .\n",
    "$$"
   ]
  },
  {
   "cell_type": "markdown",
   "metadata": {},
   "source": [
    "En utilisant un solveur en python (pulp, code ci-dessous en annexe), nous obtenons les solutions primales optimales de $(PM_a1)$ suivantes : <br>\n",
    "$$u_1 = 0 \\:, u_3 = 3/4 \\:, u_7 = 1/4 et \\: u_8 = 0 $$ <br>\n",
    "$$Z = -13*(0) - 11*(3/4) - 9*(1/4) - 6*(0) = -21/2 $$ <br>\n",
    "<br>\n",
    "Calculons maintenant les solutions duales optimales $π1$ et $π2$ de $(PM_a1)$. Pour cela, écrivons le problème dual de $(PM_a2)$ : <br>"
   ]
  },
  {
   "cell_type": "markdown",
   "metadata": {},
   "source": [
    "$$\n",
    "(DPM_a2) :\n",
    "\\left \\{\n",
    "\\begin{array}{r c l}\n",
    "Max \\: Z = 0*π1 + 1*π2 \\cr\n",
    "       10π1 + π2≤-13 \\cr\n",
    "       π1 + π2 ≤ −11 \\cr\n",
    "       −3π1 + π2 ≤ −9 \\cr\n",
    "       −4π1 + π2 ≤ −6 \\cr\n",
    "       π1 ≤ 0\\cr\n",
    "       π2 \\in R\\cr\n",
    "\\end{array}\n",
    "\\right .\n",
    "$$"
   ]
  },
  {
   "cell_type": "markdown",
   "metadata": {},
   "source": [
    "En utilisant le solveur pulp (code ci-dessous en annexe), nous obtenons les solutions duales optimales de $(DPM_a1)$ suivantes : <br>\n",
    "$$π1 = -1/2 \\: et \\: π2 = -21/2 $$ <br>\n",
    "$$Z = 0*(-1/2) + 1*(-21/2) = -21/2 $$ <br>\n",
    "$-21/2≤0$ => On continue l'itération, et on remarque bien une décroissance de la valeur de la fonction objectif entre le $(DPM_a1)$ et le $(DPM_a2)$ qui est passée de $-10$ à $-10,5$. <br>"
   ]
  },
  {
   "cell_type": "markdown",
   "metadata": {},
   "source": [
    "## Itération 4"
   ]
  },
  {
   "cell_type": "markdown",
   "metadata": {},
   "source": [
    "Déterminons le point extrême $y^i$ qui minimise le coût réduit pour $π1 =-1/2 $ et $π2 = -21/2$. <br>\n",
    "<br>\n",
    "$\n",
    "\\begin{array}{l}\n",
    "Min_{x \\in X^1 }\\: (c_1^T - π1*a_1^T)*x) + (Min_{x \\in X^2 }\\: (c_2^T - π1*a_2^T)*x) + (Min_{x \\in X^3 }\\: (c_3^T - π1*a_3^T)*x) + π1 * 14 - π2 \\cr\n",
    "⇔Min_{x \\in X^1 }\\: (c_1^T + 1/2*a_1^T)*x) + (Min_{x \\in X^2 }\\: (c_2^T + 1/2*a_2^T)*x) + (Min_{x \\in X^3 }\\: (c_3^T +1/2*a_3^T)*x) - 1/2 * 14 + 21/2 \\cr\n",
    "Min_{x \\in X^1 }\\: (c_1^T + 1*a_1^T)*x) + (Min_{x \\in X^2 }\\: (c_2^T + 1*a_2^T)*x) + (Min_{x \\in X^3 }\\: (c_3^T +1*a_3^T)*x) - 4 \\cr\n",
    "⇔(Min_{x \\in X^1 }\\: SP_7) + (Min_{x \\in X^2 }\\: SP_8) + (Min_{x \\in X^3 }\\: SP_9) + 7/2 \\cr\n",
    "\\end{array}\n",
    "$\n",
    "<br>\n",
    "<br>\n",
    "Nous obtenons les 3 sous-programmes suivants : <br>\n",
    "<br>\n",
    "$$\n",
    "(SP_7) :\n",
    "\\left \\{\n",
    "\\begin{array}{r c l}\n",
    "Min \\: Z = -2x_1-4x_2 + 1/2(2x_1-6x_2) \\cr\n",
    "       x_1 + x_2 =1 \\cr\n",
    "       x_1≥0 \\cr \n",
    "       x_2≥0 \\cr\n",
    "\\end{array}\n",
    "\\right .\n",
    "=>\\left \\{\n",
    "\\begin{array}{r c l}\n",
    "Min \\: Z = -x_1-x_2\\cr\n",
    "       x_1 + x_2 =1 \\cr\n",
    "       x_1≥0 \\cr \n",
    "       x_2≥0 \\cr\n",
    "\\end{array}\n",
    "\\right .\n",
    "$$\n",
    "<br>\n",
    "$$\n",
    "(SP_8) :\n",
    "\\left \\{\n",
    "\\begin{array}{r c l}\n",
    "Min \\: Z = -3x_3-5x_4 + 1/2(6x_3+15x_4) \\cr\n",
    "       x_3 + x_4 =1 \\cr\n",
    "       x_3≥0 \\cr \n",
    "       x_4≥0 \\cr\n",
    "\\end{array}\n",
    "\\right .\n",
    "=>\\left \\{\n",
    "\\begin{array}{r c l}\n",
    "Min \\: Z = 0x_3+(5/2)x_4 \\cr\n",
    "       x_3 + x_4 =1 \\cr\n",
    "       x_3≥0 \\cr \n",
    "       x_4≥0 \\cr\n",
    "\\end{array}\n",
    "\\right .\n",
    "$$\n",
    "<br>\n",
    "$$\n",
    "(SP_9) :\n",
    "\\left \\{\n",
    "\\begin{array}{r c l}\n",
    "Min \\: Z = -x_5-4x_6 + 1/2(2x_5+3x_6) \\cr\n",
    "       x_3 + x_4 =1 \\cr\n",
    "       x_3≥0 \\cr \n",
    "       x_4≥0 \\cr\n",
    "\\end{array}\n",
    "\\right .\n",
    "=>\\left \\{\n",
    "\\begin{array}{r c l}\n",
    "Min \\: Z = 0x_5-(5/2)x_6 \\cr\n",
    "       x_5 + x_6 =1 \\cr\n",
    "       x_5≥0 \\cr \n",
    "       x_6≥0 \\cr\n",
    "\\end{array}\n",
    "\\right .\n",
    "$$\n",
    "<br>\n",
    "- $(SP_7)$ admet les solutions optimales $x_1^* = 0 \\: et \\: x_2* = 1$, ou $x_1^* = 1 \\: et \\: x_2* = 0$, ainsi $Z = -1.$\n",
    "- $(SP_8)$ admet les solutions optimales $x_3^* = 1 \\: et \\: x_4* = 0$, ainsi $Z = 0.$\n",
    "- $(SP_9)$ admet les solutions optimales $x_5^* = 0 \\: et \\: x_6* = 1$, ainsi $Z = -2,5.$\n",
    "<br>\n",
    "<br>\n",
    "$ (Min_{x \\in X^1 }\\: SP7) + (Min_{x \\in X^2 }\\: SP8) + (Min_{x \\in X^3 }\\: SP9) + 1\n",
    "⇔ (1 +0 -2,5 - 3,5) \n",
    "⇔ 0$ par conséquent nous arrêtons l'itération car l'optimum est atteint, le test d'optimalité est satisfait car le coût réduit est égal à 0.<br>"
   ]
  },
  {
   "cell_type": "markdown",
   "metadata": {},
   "source": [
    "Il a fallu 4 itérations pour atteindre l'optimum. Et seulement 4 colonnes ont suffit (correspondant respectivement aux variables $u_1$, $u_3$, $u_7$ et $u_8$) à trouver l'optimum du problème $(P)$, comparé aux 8 colonnes du programme maître $(PM)$."
   ]
  },
  {
   "cell_type": "markdown",
   "metadata": {},
   "source": [
    "## Question f :  Construction de la solution optimale du problème $(P)$"
   ]
  },
  {
   "cell_type": "markdown",
   "metadata": {},
   "source": [
    "Une solution optimale du problème $(P)$ est : \n",
    "$$  x^* = \\sum_{j=1}^{4} u^j*y^j $$ <br>\n",
    "avec $u_1, u_2, u_4, u_5, u_6, u_8 = 0, u_3 = 3/4, u_7 = 1/4$ (cf valeurs optimales primales de $(PM_a2)$<br>\n",
    "=> $$  x^* = 3/4 * \\begin{pmatrix} 0 \\\\ 1 \\\\ 1 \\\\ 0 \\\\ 0 \\\\ 1 \\end{pmatrix} + 1/4 * \\begin{pmatrix} 1 \\\\ 0 \\\\ 1 \\\\ 0 \\\\ 0 \\\\ 1 \\end{pmatrix} = \\begin{pmatrix} 0,25 \\\\ 0,75 \\\\ 1 \\\\ 0 \\\\ 0 \\\\ 1 \\end{pmatrix}\n",
    " $$\n",
    "\n",
    "\n"
   ]
  },
  {
   "cell_type": "markdown",
   "metadata": {},
   "source": [
    "## ANNEXE : Solveur"
   ]
  },
  {
   "cell_type": "code",
   "execution_count": 140,
   "metadata": {},
   "outputs": [
    {
     "name": "stdout",
     "output_type": "stream",
     "text": [
      "Problem:\n",
      "MINIMIZE\n",
      "-13*u1 + -6*u8 + 0\n",
      "SUBJECT TO\n",
      "_C1: 10 u1 - 4 u8 <= 0\n",
      "\n",
      "_C2: u1 + u8 = 1\n",
      "\n",
      "_C3: u1 >= 0\n",
      "\n",
      "_C4: u8 >= 0\n",
      "\n",
      "VARIABLES\n",
      "u1 Continuous\n",
      "u8 Continuous\n",
      "\n",
      "Optimal\n",
      "0.28571429 0.71428571 -8.000000029999999\n",
      " \n",
      "u1* est égal à 2/7\n",
      "u8* est égal à 5/7\n",
      "Z est égal à -8\n"
     ]
    }
   ],
   "source": [
    "#-------------------\n",
    "#Resolution de PM_a\n",
    "#-------------------\n",
    "# import the library pulp as p \n",
    "import pulp as p #si pas installé, faire !pip install pulp\n",
    "from fractions import Fraction\n",
    "  \n",
    "# Create a LP Minimization problem \n",
    "Lp_prob = p.LpProblem('Problem', p.LpMinimize)  \n",
    "  \n",
    "# Create problem Variables  \n",
    "u1 = p.LpVariable(\"u1\", lowBound = 0)   # Create a variable u1 >= 0 \n",
    "u8 = p.LpVariable(\"u8\", lowBound = 0)   # Create a variable u8 >= 0 \n",
    "  \n",
    "# Objective Function \n",
    "Lp_prob += -13 * u1 - 6 * u8    \n",
    "  \n",
    "# Constraints: \n",
    "Lp_prob += 10 * u1 - 4 * u8 <= 0\n",
    "Lp_prob += u1 + u8 == 1\n",
    "Lp_prob += u1 >= 0\n",
    "Lp_prob += u8 >= 0\n",
    "  \n",
    "# Display the problem \n",
    "print(Lp_prob) \n",
    "  \n",
    "status = Lp_prob.solve()   # Solver \n",
    "print(p.LpStatus[status])   # The solution status \n",
    "  \n",
    "# Printing the final solution \n",
    "print(p.value(u1), p.value(u8), p.value(Lp_prob.objective))   \n",
    "\n",
    "# Printing the final solution in ratio\n",
    "print(\" \")\n",
    "print(\"u1* est égal à \" + str(Fraction(p.value(u1)).limit_denominator()))\n",
    "print(\"u8* est égal à \" + str(Fraction(p.value(u8)).limit_denominator()))\n",
    "print(\"Z est égal à \" + str(Fraction(p.value(Lp_prob.objective)).limit_denominator()))"
   ]
  },
  {
   "cell_type": "code",
   "execution_count": 2,
   "metadata": {
    "scrolled": true
   },
   "outputs": [
    {
     "name": "stdout",
     "output_type": "stream",
     "text": [
      "Problem:\n",
      "MAXIMIZE\n",
      "1*pi2 + 0\n",
      "SUBJECT TO\n",
      "_C1: 10 pi1 + pi2 <= -13\n",
      "\n",
      "_C2: - 4 pi1 + pi2 <= -6\n",
      "\n",
      "_C3: pi1 <= 0\n",
      "\n",
      "VARIABLES\n",
      "-1000 <= pi1 Continuous\n",
      "-1000 <= pi2 Continuous\n",
      "\n",
      "Optimal\n",
      "-0.5 -8.0 -8.0\n",
      " \n",
      "pi1* est égal à -1/2\n",
      "pi2* est égal à -8\n",
      "Z est égal à -8\n"
     ]
    }
   ],
   "source": [
    "#-------------------\n",
    "#Resolution de DPM_a\n",
    "#-------------------\n",
    "# import the library pulp as p \n",
    "import pulp as p #si pas installé, faire !pip install pulp\n",
    "from fractions import Fraction\n",
    "  \n",
    "# Create a LP Minimization problem \n",
    "Lp_prob = p.LpProblem('Problem', p.LpMaximize)  \n",
    "  \n",
    "# Create problem Variables  \n",
    "pi1 = p.LpVariable(\"pi1\", lowBound = -1000)   # Create a variable x >= 0 \n",
    "pi2 = p.LpVariable(\"pi2\", lowBound = -1000)   # Create a variable y >= 0 \n",
    "  \n",
    "# Objective Function \n",
    "Lp_prob += 0 * pi1 + 1 * pi2    \n",
    "  \n",
    "# Constraints: \n",
    "Lp_prob += 10 * pi1 + pi2 <= -13\n",
    "Lp_prob += -4 * pi1 + pi2 <= -6\n",
    "Lp_prob += pi1 <= 0\n",
    "#Lp_prob += y >= 0\n",
    "#Lp_prob += y <= 0\n",
    "  \n",
    "# Display the problem \n",
    "print(Lp_prob) \n",
    "  \n",
    "status = Lp_prob.solve()   # Solver \n",
    "print(p.LpStatus[status])   # The solution status \n",
    "  \n",
    "# Printing the final solution \n",
    "print(p.value(pi1), p.value(pi2), p.value(Lp_prob.objective))   \n",
    "\n",
    "# Printing the final solution in ratio\n",
    "print(\" \")\n",
    "print(\"pi1* est égal à \" + str(Fraction(p.value(pi1)).limit_denominator()))\n",
    "print(\"pi2* est égal à \" + str(Fraction(p.value(pi2)).limit_denominator()))\n",
    "print(\"Z est égal à \" + str(Fraction(p.value(Lp_prob.objective)).limit_denominator()))"
   ]
  },
  {
   "cell_type": "code",
   "execution_count": 143,
   "metadata": {},
   "outputs": [
    {
     "name": "stdout",
     "output_type": "stream",
     "text": [
      "Problem:\n",
      "MINIMIZE\n",
      "-13*u1 + -11*u3 + -6*u8 + 0\n",
      "SUBJECT TO\n",
      "_C1: 10 u1 + u3 - 4 u8 <= 0\n",
      "\n",
      "_C2: u1 + u3 + u8 = 1\n",
      "\n",
      "_C3: u1 >= 0\n",
      "\n",
      "_C4: u3 >= 0\n",
      "\n",
      "_C5: u8 >= 0\n",
      "\n",
      "VARIABLES\n",
      "u1 Continuous\n",
      "u3 Continuous\n",
      "u8 Continuous\n",
      "\n",
      "Optimal\n",
      "0.0 0.8 0.2 -10.0\n",
      " \n",
      "u1* est égal à 0\n",
      "u3* est égal à 4/5\n",
      "u8* est égal à 1/5\n",
      "Z est égal à -10\n"
     ]
    }
   ],
   "source": [
    "#-------------------\n",
    "#Resolution de PM_a1\n",
    "#-------------------\n",
    "# import the library pulp as p \n",
    "import pulp as p #si pas installé, faire !pip install pulp\n",
    "from fractions import Fraction\n",
    "  \n",
    "# Create a LP Minimization problem \n",
    "Lp_prob = p.LpProblem('Problem', p.LpMinimize)  \n",
    "  \n",
    "# Create problem Variables  \n",
    "u1 = p.LpVariable(\"u1\", lowBound = 0)   # Create a variable u1 >= 0 \n",
    "u3 = p.LpVariable(\"u3\", lowBound = 0)   # Create a variable u3 >= 0 \n",
    "u8 = p.LpVariable(\"u8\", lowBound = 0)   # Create a variable u8 >= 0 \n",
    "  \n",
    "# Objective Function \n",
    "Lp_prob += -13 * u1 - 11 * u3 - 6 * u8    \n",
    "  \n",
    "# Constraints: \n",
    "Lp_prob += 10 * u1 + u3 - 4 * u8 <= 0\n",
    "Lp_prob += u1 + u3 + u8 == 1\n",
    "Lp_prob += u1 >= 0\n",
    "Lp_prob += u3 >= 0\n",
    "Lp_prob += u8 >= 0\n",
    "  \n",
    "# Display the problem \n",
    "print(Lp_prob) \n",
    "  \n",
    "status = Lp_prob.solve()   # Solver \n",
    "print(p.LpStatus[status])   # The solution status \n",
    "  \n",
    "# Printing the final solution \n",
    "print(p.value(u1), p.value(u3), p.value(u8), p.value(Lp_prob.objective))   \n",
    "\n",
    "# Printing the final solution in ratio\n",
    "print(\" \")\n",
    "print(\"u1* est égal à \" + str(Fraction(p.value(u1)).limit_denominator()))\n",
    "print(\"u3* est égal à \" + str(Fraction(p.value(u3)).limit_denominator()))\n",
    "print(\"u8* est égal à \" + str(Fraction(p.value(u8)).limit_denominator()))\n",
    "print(\"Z est égal à \" + str(Fraction(p.value(Lp_prob.objective)).limit_denominator()))"
   ]
  },
  {
   "cell_type": "code",
   "execution_count": 148,
   "metadata": {},
   "outputs": [
    {
     "name": "stdout",
     "output_type": "stream",
     "text": [
      "Problem:\n",
      "MAXIMIZE\n",
      "1*pi2 + 0\n",
      "SUBJECT TO\n",
      "_C1: 10 pi1 + pi2 <= -13\n",
      "\n",
      "_C2: pi1 + pi2 <= -11\n",
      "\n",
      "_C3: - 4 pi1 + pi2 <= -6\n",
      "\n",
      "_C4: pi1 <= 0\n",
      "\n",
      "VARIABLES\n",
      "-1000 <= pi1 Continuous\n",
      "-1000 <= pi2 Continuous\n",
      "\n",
      "Optimal\n",
      "-1.0 -10.0 -10.0\n",
      " \n",
      "pi1* est égal à -1\n",
      "pi2* est égal à -10\n",
      "Z est égal à -10\n"
     ]
    }
   ],
   "source": [
    "#-------------------\n",
    "#Resolution de DPM_a1\n",
    "#-------------------\n",
    "# import the library pulp as p \n",
    "import pulp as p #si pas installé, faire !pip install pulp\n",
    "from fractions import Fraction\n",
    "  \n",
    "# Create a LP Minimization problem \n",
    "Lp_prob = p.LpProblem('Problem', p.LpMaximize)  \n",
    "  \n",
    "# Create problem Variables  \n",
    "pi1 = p.LpVariable(\"pi1\", lowBound = -1000)   # Create a variable x >= 0 \n",
    "pi2 = p.LpVariable(\"pi2\", lowBound = -1000)   # Create a variable y >= 0 \n",
    "  \n",
    "# Objective Function \n",
    "Lp_prob += 0 * pi1 + 1 * pi2    \n",
    "  \n",
    "# Constraints: \n",
    "Lp_prob += 10 * pi1 + pi2 <= -13\n",
    "Lp_prob += pi1 + pi2 <= -11\n",
    "Lp_prob += -4 * pi1 + pi2 <= -6\n",
    "Lp_prob += pi1 <= 0\n",
    "#Lp_prob += y >= 0\n",
    "#Lp_prob += y <= 0\n",
    "  \n",
    "# Display the problem \n",
    "print(Lp_prob) \n",
    "  \n",
    "status = Lp_prob.solve()   # Solver \n",
    "print(p.LpStatus[status])   # The solution status \n",
    "  \n",
    "# Printing the final solution \n",
    "print(p.value(pi1), p.value(pi2), p.value(Lp_prob.objective))   \n",
    "\n",
    "# Printing the final solution in ratio\n",
    "print(\" \")\n",
    "print(\"pi1* est égal à \" + str(Fraction(p.value(pi1)).limit_denominator()))\n",
    "print(\"pi2* est égal à \" + str(Fraction(p.value(pi2)).limit_denominator()))\n",
    "print(\"Z est égal à \" + str(Fraction(p.value(Lp_prob.objective)).limit_denominator()))"
   ]
  },
  {
   "cell_type": "code",
   "execution_count": 145,
   "metadata": {},
   "outputs": [
    {
     "name": "stdout",
     "output_type": "stream",
     "text": [
      "Problem:\n",
      "MINIMIZE\n",
      "-13*u1 + -11*u3 + -9*u7 + -6*u8 + 0\n",
      "SUBJECT TO\n",
      "_C1: 10 u1 + u3 - 3 u7 - 4 u8 <= 0\n",
      "\n",
      "_C2: u1 + u3 + u7 + u8 = 1\n",
      "\n",
      "_C3: u1 >= 0\n",
      "\n",
      "_C4: u3 >= 0\n",
      "\n",
      "_C5: u7 >= 0\n",
      "\n",
      "_C6: u8 >= 0\n",
      "\n",
      "VARIABLES\n",
      "u1 Continuous\n",
      "u3 Continuous\n",
      "u7 Continuous\n",
      "u8 Continuous\n",
      "\n",
      "Optimal\n",
      "0.0 0.75 0.25 0.0 -10.5\n",
      " \n",
      "u1* est égal à 0\n",
      "u3* est égal à 3/4\n",
      "u7* est égal à 1/4\n",
      "u8* est égal à 0\n",
      "Z est égal à -21/2\n"
     ]
    }
   ],
   "source": [
    "#-------------------\n",
    "#Resolution de PM_a2\n",
    "#-------------------\n",
    "# import the library pulp as p \n",
    "import pulp as p #si pas installé, faire !pip install pulp\n",
    "from fractions import Fraction\n",
    "  \n",
    "# Create a LP Minimization problem \n",
    "Lp_prob = p.LpProblem('Problem', p.LpMinimize)  \n",
    "  \n",
    "# Create problem Variables  \n",
    "u1 = p.LpVariable(\"u1\", lowBound = 0)   # Create a variable u1 >= 0 \n",
    "u3 = p.LpVariable(\"u3\", lowBound = 0)   # Create a variable u3 >= 0 \n",
    "u7 = p.LpVariable(\"u7\", lowBound = 0)   # Create a variable u7 >= 0 \n",
    "u8 = p.LpVariable(\"u8\", lowBound = 0)   # Create a variable u8 >= 0 \n",
    "  \n",
    "# Objective Function \n",
    "Lp_prob += -13 * u1 - 11 * u3 - 9 * u7 - 6 * u8    \n",
    "  \n",
    "# Constraints: \n",
    "Lp_prob += 10 * u1 + u3 - 3 * u7 - 4 * u8 <= 0\n",
    "Lp_prob += u1 + u3 + u7 + u8 == 1\n",
    "Lp_prob += u1 >= 0\n",
    "Lp_prob += u3 >= 0\n",
    "Lp_prob += u7 >= 0\n",
    "Lp_prob += u8 >= 0\n",
    "  \n",
    "# Display the problem \n",
    "print(Lp_prob) \n",
    "  \n",
    "status = Lp_prob.solve()   # Solver \n",
    "print(p.LpStatus[status])   # The solution status \n",
    "  \n",
    "# Printing the final solution \n",
    "print(p.value(u1), p.value(u3), p.value(u7), p.value(u8), p.value(Lp_prob.objective))   \n",
    "\n",
    "# Printing the final solution in ratio\n",
    "print(\" \")\n",
    "print(\"u1* est égal à \" + str(Fraction(p.value(u1)).limit_denominator()))\n",
    "print(\"u3* est égal à \" + str(Fraction(p.value(u3)).limit_denominator()))\n",
    "print(\"u7* est égal à \" + str(Fraction(p.value(u7)).limit_denominator()))\n",
    "print(\"u8* est égal à \" + str(Fraction(p.value(u8)).limit_denominator()))\n",
    "print(\"Z est égal à \" + str(Fraction(p.value(Lp_prob.objective)).limit_denominator()))"
   ]
  },
  {
   "cell_type": "code",
   "execution_count": 149,
   "metadata": {},
   "outputs": [
    {
     "name": "stdout",
     "output_type": "stream",
     "text": [
      "Problem:\n",
      "MAXIMIZE\n",
      "1*pi2 + 0\n",
      "SUBJECT TO\n",
      "_C1: 10 pi1 + pi2 <= -13\n",
      "\n",
      "_C2: pi1 + pi2 <= -11\n",
      "\n",
      "_C3: - 3 pi1 + pi2 <= -9\n",
      "\n",
      "_C4: - 4 pi1 + pi2 <= -6\n",
      "\n",
      "_C5: pi1 <= 0\n",
      "\n",
      "VARIABLES\n",
      "-1000 <= pi1 Continuous\n",
      "-1000 <= pi2 Continuous\n",
      "\n",
      "Optimal\n",
      "-0.5 -10.5 -10.5\n",
      " \n",
      "pi1* est égal à -1/2\n",
      "pi2* est égal à -21/2\n",
      "Z est égal à -21/2\n"
     ]
    }
   ],
   "source": [
    "#-------------------\n",
    "#Resolution de DPM_a2\n",
    "#-------------------\n",
    "# import the library pulp as p \n",
    "import pulp as p #si pas installé, faire !pip install pulp\n",
    "from fractions import Fraction\n",
    "  \n",
    "# Create a LP Minimization problem \n",
    "Lp_prob = p.LpProblem('Problem', p.LpMaximize)  \n",
    "  \n",
    "# Create problem Variables  \n",
    "pi1 = p.LpVariable(\"pi1\", lowBound = -1000)   # Create a variable x >= 0 \n",
    "pi2 = p.LpVariable(\"pi2\", lowBound = -1000)   # Create a variable y >= 0 \n",
    "  \n",
    "# Objective Function \n",
    "Lp_prob += 0 * pi1 + 1 * pi2    \n",
    "  \n",
    "# Constraints: \n",
    "Lp_prob += 10 * pi1 + pi2 <= -13\n",
    "Lp_prob += pi1 + pi2 <= -11\n",
    "Lp_prob += -3 * pi1 + pi2 <= -9\n",
    "Lp_prob += -4 * pi1 + pi2 <= -6\n",
    "Lp_prob += pi1 <= 0\n",
    "#Lp_prob += y >= 0\n",
    "#Lp_prob += y <= 0\n",
    "  \n",
    "# Display the problem \n",
    "print(Lp_prob) \n",
    "  \n",
    "status = Lp_prob.solve()   # Solver \n",
    "print(p.LpStatus[status])   # The solution status \n",
    "  \n",
    "# Printing the final solution \n",
    "print(p.value(pi1), p.value(pi2), p.value(Lp_prob.objective))   \n",
    "\n",
    "# Printing the final solution in ratio\n",
    "print(\" \")\n",
    "print(\"pi1* est égal à \" + str(Fraction(p.value(pi1)).limit_denominator()))\n",
    "print(\"pi2* est égal à \" + str(Fraction(p.value(pi2)).limit_denominator()))\n",
    "print(\"Z est égal à \" + str(Fraction(p.value(Lp_prob.objective)).limit_denominator()))"
   ]
  }
 ],
 "metadata": {
  "kernelspec": {
   "display_name": "Python 3",
   "language": "python",
   "name": "python3"
  },
  "language_info": {
   "codemirror_mode": {
    "name": "ipython",
    "version": 3
   },
   "file_extension": ".py",
   "mimetype": "text/x-python",
   "name": "python",
   "nbconvert_exporter": "python",
   "pygments_lexer": "ipython3",
   "version": "3.7.3"
  }
 },
 "nbformat": 4,
 "nbformat_minor": 2
}
